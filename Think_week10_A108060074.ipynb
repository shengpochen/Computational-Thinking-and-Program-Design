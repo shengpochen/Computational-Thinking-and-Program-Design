{
  "nbformat": 4,
  "nbformat_minor": 0,
  "metadata": {
    "colab": {
      "name": "Think-week10-A108060074.ipynb",
      "provenance": []
    },
    "kernelspec": {
      "name": "python3",
      "display_name": "Python 3"
    }
  },
  "cells": [
    {
      "cell_type": "markdown",
      "metadata": {
        "id": "TCGVaIfFUqt5",
        "colab_type": "text"
      },
      "source": [
        "題目4：假設上衣300元、褲子350元與背心400元，使用者可以自行輸入三種服裝的數量，請設計一個程式計算訂購服裝的總金額。"
      ]
    },
    {
      "cell_type": "code",
      "metadata": {
        "id": "qABQEf72U1Mp",
        "colab_type": "code",
        "colab": {
          "base_uri": "https://localhost:8080/",
          "height": 85
        },
        "outputId": "4ba1c078-a8b5-495e-f24c-d69fdb0d1157"
      },
      "source": [
        "上衣數量=(int(input(\"請輸入上衣數量:\")))\n",
        "褲子數量=(int(input(\"請輸入褲子數量\")))\n",
        "背心數量=(int(input(\"請輸入背心數量:\")))\n",
        "總金額 = 300*上衣數量 +350*褲子數量+400*背心數量\n",
        "print(\"訂購服裝總金額為\" , 總金額)"
      ],
      "execution_count": 3,
      "outputs": [
        {
          "output_type": "stream",
          "text": [
            "請輸入上衣數量:300\n",
            "請輸入褲子數量350\n",
            "請輸入背心數量:400\n",
            "訂購服裝總金額為 372500\n"
          ],
          "name": "stdout"
        }
      ]
    },
    {
      "cell_type": "markdown",
      "metadata": {
        "id": "R3mWI9kSV3kB",
        "colab_type": "text"
      },
      "source": [
        "題目5： 假設飲料一罐賣20元，一打賣200元，請設計一個程式計算買幾罐需花多少錢，若不足一打就個別買。"
      ]
    },
    {
      "cell_type": "code",
      "metadata": {
        "id": "r9L5ag9eV7YG",
        "colab_type": "code",
        "colab": {
          "base_uri": "https://localhost:8080/",
          "height": 51
        },
        "outputId": "10a849b9-53bd-494f-c493-a6bb6530857e"
      },
      "source": [
        "飲料數量 =int(input('請輸入數量'))\n",
        "滿足一打 =(數量//12)\n",
        "不足一打 =(數量%12)\n",
        "飲料總金額 =(一打*200+不足一打*20)\n",
        "print('總金額為', 總金額)"
      ],
      "execution_count": 6,
      "outputs": [
        {
          "output_type": "stream",
          "text": [
            "請輸入數量45\n",
            "總金額為 780\n"
          ],
          "name": "stdout"
        }
      ]
    },
    {
      "cell_type": "markdown",
      "metadata": {
        "id": "uZKz8sWhXMwX",
        "colab_type": "text"
      },
      "source": [
        "題目6： 輸入第一次期中考、第二次期中考與期末考成績，成績皆為整數，請計算分數的加總與平均。"
      ]
    },
    {
      "cell_type": "code",
      "metadata": {
        "id": "CdRKiOpHXRkJ",
        "colab_type": "code",
        "colab": {
          "base_uri": "https://localhost:8080/",
          "height": 102
        },
        "outputId": "d0f8a371-891f-4634-fb02-8e96186d774d"
      },
      "source": [
        "一次期中考查 = int(input(\"請輸入第一次期中考成績\"))\n",
        "二次期中考查 = int(input(\"請輸入第二次期中考成績\"))\n",
        "三次期末考查 = int(input(\"請輸入期末考成績\"))\n",
        "總分數 = 一次期中考查 + 二次期中考查 + 三次期末考查\n",
        "print(\"總分數為\",總分數)\n",
        "平均分數 = (第一次期中考成績 + 第二次期中考成績 + 期末考成績)//3\n",
        "print(\"平均分數為\",平均分數)"
      ],
      "execution_count": 8,
      "outputs": [
        {
          "output_type": "stream",
          "text": [
            "請輸入第一次期中考成績60\n",
            "請輸入第二次期中考成績85\n",
            "請輸入期末考成績100\n",
            "總分數為 245\n",
            "平均分數為 85\n"
          ],
          "name": "stdout"
        }
      ]
    }
  ]
}