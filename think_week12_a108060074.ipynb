{
  "nbformat": 4,
  "nbformat_minor": 0,
  "metadata": {
    "colab": {
      "name": "think-week12-a108060074.ipynb",
      "provenance": []
    },
    "kernelspec": {
      "name": "python3",
      "display_name": "Python 3"
    }
  },
  "cells": [
    {
      "cell_type": "code",
      "metadata": {
        "id": "xryQTiqwFGsC",
        "colab_type": "code",
        "colab": {
          "base_uri": "https://localhost:8080/",
          "height": 85
        },
        "outputId": "7eafdfe8-7c39-4d8f-e8a7-f7bf47dc4bfc"
      },
      "source": [
        "# Input\n",
        "noodle = input(\"有麵嗎?(YES/NO)\")\n",
        "sause = input(\"有醬料嗎?(YES/NO)\")\n",
        "\n",
        "#Process\n",
        "if noodle == \"YES\" and sause == \"YES\":\n",
        "  print(\"今晚吃義大利麵\")\n",
        "\n",
        "  #Output\n",
        "  print(\"well done\")"
      ],
      "execution_count": 1,
      "outputs": [
        {
          "output_type": "stream",
          "text": [
            "有麵嗎?(YES/NO)YES\n",
            "有醬料嗎?(YES/NO)YES\n",
            "今晚吃義大利麵\n",
            "well done\n"
          ],
          "name": "stdout"
        }
      ]
    }
  ]
}