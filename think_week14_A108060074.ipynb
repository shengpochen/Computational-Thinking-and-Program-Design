{
  "nbformat": 4,
  "nbformat_minor": 0,
  "metadata": {
    "colab": {
      "name": "think-week14 -A108060074.ipynb",
      "provenance": []
    },
    "kernelspec": {
      "name": "python3",
      "display_name": "Python 3"
    }
  },
  "cells": [
    {
      "cell_type": "code",
      "metadata": {
        "id": "gXrFhfawtrCO",
        "colab_type": "code",
        "colab": {
          "base_uri": "https://localhost:8080/",
          "height": 85
        },
        "outputId": "ce93ed6e-002a-45ae-9188-fe259d447993"
      },
      "source": [
        "# BMI計算\n",
        "#輸入體重和身高資訊input\n",
        "\n",
        "weight = float(input(\"Enter your weight(kg)?\"))\n",
        "height = float(input(\"Enter your height(M)?\"))\n",
        "\n",
        "#計算BMI指數 PROCESS\n",
        "bmi = weight / (height + height)\n",
        "\n",
        "#印出BMI OUTPUT\n",
        "print(\"BMI指數為\",bmi)\n",
        "\n",
        "#根據BMI指數 印出肥胖程度分級 process + output + if elif else\n",
        "if bmi < 18 :\n",
        "  print(\"Underweight\")\n",
        "elif bmi < 24 :\n",
        "  print(\"Normal\")\n",
        "elif bmi < 27 : \n",
        "  print(\"Overweight\")\n",
        "else:\n",
        "  print(\"Obesity\")"
      ],
      "execution_count": 1,
      "outputs": [
        {
          "output_type": "stream",
          "text": [
            "Enter your weight(kg)?99\n",
            "Enter your height(M)?1.7\n",
            "BMI指數為 29.11764705882353\n",
            "Obesity\n"
          ],
          "name": "stdout"
        }
      ]
    },
    {
      "cell_type": "code",
      "metadata": {
        "id": "SYVKParfxIg9",
        "colab_type": "code",
        "colab": {
          "base_uri": "https://localhost:8080/",
          "height": 187
        },
        "outputId": "5be1bd64-9064-4dff-e865-75c466b53837"
      },
      "source": [
        "#一般型迴圈\n",
        "n = 0 #初始條件\n",
        "while n < 10: #判斷條件\n",
        "    print(\"hello\")\n",
        "    n = n + 1 #更新條件"
      ],
      "execution_count": 6,
      "outputs": [
        {
          "output_type": "stream",
          "text": [
            "hello\n",
            "hello\n",
            "hello\n",
            "hello\n",
            "hello\n",
            "hello\n",
            "hello\n",
            "hello\n",
            "hello\n",
            "hello\n"
          ],
          "name": "stdout"
        }
      ]
    },
    {
      "cell_type": "code",
      "metadata": {
        "id": "3zhNO6bfysQF",
        "colab_type": "code",
        "colab": {}
      },
      "source": [
        ""
      ],
      "execution_count": 0,
      "outputs": []
    }
  ]
}