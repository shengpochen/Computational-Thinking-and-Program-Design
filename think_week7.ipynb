{
  "nbformat": 4,
  "nbformat_minor": 0,
  "metadata": {
    "colab": {
      "name": "think-week7.ipynb",
      "provenance": []
    },
    "kernelspec": {
      "name": "python3",
      "display_name": "Python 3"
    }
  },
  "cells": [
    {
      "cell_type": "code",
      "metadata": {
        "id": "qA4FkNCNFdKc",
        "colab_type": "code",
        "colab": {}
      },
      "source": [
        "#從IMDB或維基百科上蒐集有關黎泰院的資訊"
      ],
      "execution_count": 0,
      "outputs": []
    },
    {
      "cell_type": "code",
      "metadata": {
        "id": "m0ENlDpvKd0u",
        "colab_type": "code",
        "colab": {}
      },
      "source": [
        "##網址：https://www.imdb.com/title/tt11239552/、https://zh.wikipedia.org/wiki/%E6%A2%A8%E6%B3%B0%E9%99%A2Class"
      ],
      "execution_count": 0,
      "outputs": []
    },
    {
      "cell_type": "code",
      "metadata": {
        "id": "-YPySDTfKuJn",
        "colab_type": "code",
        "colab": {}
      },
      "source": [
        ""
      ],
      "execution_count": 0,
      "outputs": []
    },
    {
      "cell_type": "code",
      "metadata": {
        "id": "36_brvIlK1Jk",
        "colab_type": "code",
        "colab": {}
      },
      "source": [
        "#在PYTHON用變數處理資訊"
      ],
      "execution_count": 0,
      "outputs": []
    },
    {
      "cell_type": "code",
      "metadata": {
        "id": "gMFZn2_JLNRZ",
        "colab_type": "code",
        "colab": {}
      },
      "source": [
        "movie_title = \"黎泰院\" #電視劇名稱"
      ],
      "execution_count": 0,
      "outputs": []
    },
    {
      "cell_type": "code",
      "metadata": {
        "id": "Z_c_lSp6MJqi",
        "colab_type": "code",
        "colab": {}
      },
      "source": [
        "release_year = \"2020\" #放映年份"
      ],
      "execution_count": 0,
      "outputs": []
    },
    {
      "cell_type": "code",
      "metadata": {
        "id": "ti6CWjaHNK0_",
        "colab_type": "code",
        "colab": {}
      },
      "source": [
        "episode = \"16\" #集數"
      ],
      "execution_count": 0,
      "outputs": []
    },
    {
      "cell_type": "code",
      "metadata": {
        "id": "4O9JIKOtNSnl",
        "colab_type": "code",
        "colab": {}
      },
      "source": [
        "production_country =  \"Korea\" #製作國家"
      ],
      "execution_count": 0,
      "outputs": []
    },
    {
      "cell_type": "code",
      "metadata": {
        "id": "LEvePPgYNp2C",
        "colab_type": "code",
        "colab": {}
      },
      "source": [
        "movie_rating = \"8.3\" #評分"
      ],
      "execution_count": 0,
      "outputs": []
    },
    {
      "cell_type": "code",
      "metadata": {
        "id": "IFq6tIDuN5ly",
        "colab_type": "code",
        "colab": {}
      },
      "source": [
        ""
      ],
      "execution_count": 0,
      "outputs": []
    },
    {
      "cell_type": "code",
      "metadata": {
        "id": "jSCrdQHIN53y",
        "colab_type": "code",
        "colab": {}
      },
      "source": [
        "director = \"Jin Chengyun , Jiang Minjiu\" #導演"
      ],
      "execution_count": 0,
      "outputs": []
    },
    {
      "cell_type": "code",
      "metadata": {
        "id": "GC7jlQPwOGV-",
        "colab_type": "code",
        "colab": {}
      },
      "source": [
        "stars = \"\tPark Seo-joon , Kim so beautiful , right Nora ,Liu Ming\" #主要演員"
      ],
      "execution_count": 0,
      "outputs": []
    },
    {
      "cell_type": "code",
      "metadata": {
        "id": "-qOBuQPCOYdr",
        "colab_type": "code",
        "colab": {}
      },
      "source": [
        "like = 9 #是否喜歡(1~10)"
      ],
      "execution_count": 0,
      "outputs": []
    },
    {
      "cell_type": "code",
      "metadata": {
        "id": "ucIdEWVrOq9B",
        "colab_type": "code",
        "colab": {}
      },
      "source": [
        ""
      ],
      "execution_count": 0,
      "outputs": []
    },
    {
      "cell_type": "code",
      "metadata": {
        "id": "x3TPML3vOxzo",
        "colab_type": "code",
        "colab": {}
      },
      "source": [
        "#印出黎泰院的相關資訊"
      ],
      "execution_count": 0,
      "outputs": []
    },
    {
      "cell_type": "code",
      "metadata": {
        "id": "mLze220yO3jT",
        "colab_type": "code",
        "colab": {
          "base_uri": "https://localhost:8080/",
          "height": 34
        },
        "outputId": "5df02e8c-199f-4d7b-c828-f7e924a08e86"
      },
      "source": [
        "print(movie_title) #螢幕列印"
      ],
      "execution_count": 16,
      "outputs": [
        {
          "output_type": "stream",
          "text": [
            "黎泰院\n"
          ],
          "name": "stdout"
        }
      ]
    },
    {
      "cell_type": "code",
      "metadata": {
        "id": "HHoJ-UzkPIct",
        "colab_type": "code",
        "colab": {
          "base_uri": "https://localhost:8080/",
          "height": 34
        },
        "outputId": "49107f06-9cb9-4dbd-dbdb-e8c9183b629f"
      },
      "source": [
        "print(release_year)"
      ],
      "execution_count": 18,
      "outputs": [
        {
          "output_type": "stream",
          "text": [
            "2020\n"
          ],
          "name": "stdout"
        }
      ]
    },
    {
      "cell_type": "code",
      "metadata": {
        "id": "XNUv4R5PQIa9",
        "colab_type": "code",
        "colab": {
          "base_uri": "https://localhost:8080/",
          "height": 34
        },
        "outputId": "bca85b8c-5e07-454b-dbe1-ac2d7bc61621"
      },
      "source": [
        "print(episode)"
      ],
      "execution_count": 19,
      "outputs": [
        {
          "output_type": "stream",
          "text": [
            "16\n"
          ],
          "name": "stdout"
        }
      ]
    },
    {
      "cell_type": "code",
      "metadata": {
        "id": "wyjH6_7rQPoV",
        "colab_type": "code",
        "colab": {
          "base_uri": "https://localhost:8080/",
          "height": 34
        },
        "outputId": "8f9ab234-b246-4cdb-e31d-6dbf23de4e35"
      },
      "source": [
        "print(production_country)"
      ],
      "execution_count": 20,
      "outputs": [
        {
          "output_type": "stream",
          "text": [
            "Korea\n"
          ],
          "name": "stdout"
        }
      ]
    },
    {
      "cell_type": "code",
      "metadata": {
        "id": "l22ZI_N2QmCq",
        "colab_type": "code",
        "colab": {
          "base_uri": "https://localhost:8080/",
          "height": 34
        },
        "outputId": "ae5dae3b-a8a1-4a26-d812-af9e19c7c5cc"
      },
      "source": [
        "print(movie_rating)"
      ],
      "execution_count": 21,
      "outputs": [
        {
          "output_type": "stream",
          "text": [
            "8.3\n"
          ],
          "name": "stdout"
        }
      ]
    },
    {
      "cell_type": "code",
      "metadata": {
        "id": "2DdtljB7QtT7",
        "colab_type": "code",
        "colab": {
          "base_uri": "https://localhost:8080/",
          "height": 34
        },
        "outputId": "3bdbe582-1c11-45bf-be8f-1e357b7cbfe2"
      },
      "source": [
        "print(director)"
      ],
      "execution_count": 22,
      "outputs": [
        {
          "output_type": "stream",
          "text": [
            "Jin Chengyun , Jiang Minjiu\n"
          ],
          "name": "stdout"
        }
      ]
    },
    {
      "cell_type": "code",
      "metadata": {
        "id": "sKTnQItYQzX7",
        "colab_type": "code",
        "colab": {
          "base_uri": "https://localhost:8080/",
          "height": 34
        },
        "outputId": "bf33de93-84d4-4ef7-8905-4afc0d31fddb"
      },
      "source": [
        "print(stars)"
      ],
      "execution_count": 23,
      "outputs": [
        {
          "output_type": "stream",
          "text": [
            "\tPark Seo-joon , Kim so beautiful , right Nora ,Liu Ming\n"
          ],
          "name": "stdout"
        }
      ]
    },
    {
      "cell_type": "code",
      "metadata": {
        "id": "zGZ08QGjQ5Lw",
        "colab_type": "code",
        "colab": {
          "base_uri": "https://localhost:8080/",
          "height": 34
        },
        "outputId": "66e23c79-ce17-42ab-ea0e-5a4d8648cd4b"
      },
      "source": [
        "print(like)"
      ],
      "execution_count": 24,
      "outputs": [
        {
          "output_type": "stream",
          "text": [
            "9\n"
          ],
          "name": "stdout"
        }
      ]
    }
  ]
}