{
  "nbformat": 4,
  "nbformat_minor": 0,
  "metadata": {
    "colab": {
      "name": "think-week8.ipynb",
      "provenance": []
    },
    "kernelspec": {
      "name": "python3",
      "display_name": "Python 3"
    }
  },
  "cells": [
    {
      "cell_type": "code",
      "metadata": {
        "id": "XXmwiKF6DK55",
        "colab_type": "code",
        "colab": {
          "base_uri": "https://localhost:8080/",
          "height": 119
        },
        "outputId": "2dc79257-4642-498e-b8bb-3820fdfb01a4"
      },
      "source": [
        "hours=input(\"Enter movie time hours：\")\n",
        "minutes=input(\"Enter movie time minutes\")\n",
        "\n",
        "hours=int(hours)\n",
        "minutes=int(minutes)\n",
        "\n",
        "length=hours*60+minutes\n",
        "print(hours,\"Hours\",minutes,\"Minutes\",\"movie length is\",length,\"minutes\")\n",
        "\n",
        "hours1=length//60\n",
        "print(hours1)\n",
        "\n",
        "minutes1=length%60\n",
        "print(minutes1)\n",
        "\n",
        "print(length,\"Minutes equals\",hours1,\"Hours\",minutes1,\"Minutes\")"
      ],
      "execution_count": 1,
      "outputs": [
        {
          "output_type": "stream",
          "text": [
            "Enter movie time hours：2\n",
            "Enter movie time minutes13\n",
            "2 Hours 13 Minutes movie length is 133 minutes\n",
            "2\n",
            "13\n",
            "133 Minutes equals 2 Hours 13 Minutes\n"
          ],
          "name": "stdout"
        }
      ]
    }
  ]
}