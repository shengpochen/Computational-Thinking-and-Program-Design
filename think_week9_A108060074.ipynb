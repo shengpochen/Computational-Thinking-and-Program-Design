{
  "nbformat": 4,
  "nbformat_minor": 0,
  "metadata": {
    "colab": {
      "name": "think-week8-A108060074.ipynb",
      "provenance": []
    },
    "kernelspec": {
      "name": "python3",
      "display_name": "Python 3"
    }
  },
  "cells": [
    {
      "cell_type": "markdown",
      "metadata": {
        "id": "X0xQwRMTIk5f",
        "colab_type": "text"
      },
      "source": [
        "題目1：全班40人分組，每五位同學一組，老師規定依座號順序分組，也就是1號到5號一組，6號到10號一組，請寫一個程式允許使用者輸入座號，輸出分組的組別。"
      ]
    },
    {
      "cell_type": "code",
      "metadata": {
        "id": "Ecko949RIphn",
        "colab_type": "code",
        "colab": {
          "base_uri": "https://localhost:8080/",
          "height": 51
        },
        "outputId": "5d6fdaa8-0636-4d0b-a346-f77f5d328247"
      },
      "source": [
        "座號 = int(input(\"請輸入座號\")) #文字轉數字\n",
        "組別 = (座號-1)//5 + 1\n",
        "print(\"組別為\", 組別)"
      ],
      "execution_count": 1,
      "outputs": [
        {
          "output_type": "stream",
          "text": [
            "請輸入座號74\n",
            "組別為 15\n"
          ],
          "name": "stdout"
        }
      ]
    },
    {
      "cell_type": "markdown",
      "metadata": {
        "id": "nzNum7D_I3Jn",
        "colab_type": "text"
      },
      "source": [
        "題目2: 請設計一個程式計算圓面積與圓周長，依輸入的半徑計算圓面積與圓周長。\n"
      ]
    },
    {
      "cell_type": "code",
      "metadata": {
        "id": "5f-1EpPhI_a2",
        "colab_type": "code",
        "colab": {
          "base_uri": "https://localhost:8080/",
          "height": 68
        },
        "outputId": "1b30a983-83c1-49d3-b3ae-137f7ff93527"
      },
      "source": [
        "半徑=int(input('請輸入半徑'))\n",
        "圓面積=(半徑*半徑*3.14)\n",
        "圓周長=(半徑*2*3.14)\n",
        "print('面積為',圓面積)\n",
        "print('周長為',圓周長)"
      ],
      "execution_count": 2,
      "outputs": [
        {
          "output_type": "stream",
          "text": [
            "請輸入半徑15\n",
            "面積為 706.5\n",
            "周長為 94.2\n"
          ],
          "name": "stdout"
        }
      ]
    },
    {
      "cell_type": "markdown",
      "metadata": {
        "id": "vRbV-5F_JF-N",
        "colab_type": "text"
      },
      "source": [
        "題目3： 請設計一個程式將輸入的攝氏溫度轉成華氏溫度，轉換公式如下:華氏溫度= 攝氏溫度*9/5+32"
      ]
    },
    {
      "cell_type": "code",
      "metadata": {
        "id": "IQuoRy_CJNit",
        "colab_type": "code",
        "colab": {
          "base_uri": "https://localhost:8080/",
          "height": 51
        },
        "outputId": "7d7225df-fc5c-4290-a955-c6c1d539c39f"
      },
      "source": [
        "攝氏溫度=int(input('請輸入攝氏溫度'))\n",
        "華氏溫度=(攝氏溫度*9/5+32)\n",
        "print('華氏溫度為',華氏溫度)"
      ],
      "execution_count": 3,
      "outputs": [
        {
          "output_type": "stream",
          "text": [
            "請輸入攝氏溫度35\n",
            "華氏溫度為 95.0\n"
          ],
          "name": "stdout"
        }
      ]
    }
  ]
}
